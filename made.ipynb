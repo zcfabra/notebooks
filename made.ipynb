{
 "cells": [
  {
   "cell_type": "code",
   "execution_count": 2,
   "metadata": {},
   "outputs": [],
   "source": [
    "import torch\n",
    "import torch.nn as nn\n",
    "from tqdm import tqdm\n",
    "import numpy as np\n",
    "import torch.nn.functional as F"
   ]
  },
  {
   "cell_type": "code",
   "execution_count": 5,
   "metadata": {},
   "outputs": [],
   "source": [
    "class MaskedLinear(nn.Linear):\n",
    "    def __init__(self, in_features, out_features, bias=True):\n",
    "        super().__init__(in_features,out_features, bias)    \n",
    "    def set_mask(self, mask: torch.Tensor):\n",
    "        self.register_buffer(\"mask\", mask)\n",
    "\n",
    "    def forward(self, X):\n",
    "        return F.linear(X, self.weight * self.mask, self.bias)"
   ]
  },
  {
   "cell_type": "code",
   "execution_count": null,
   "metadata": {},
   "outputs": [],
   "source": [
    "# Made w/ mixture of logitsics \n",
    "\n",
    "class MADE(nn.Module):\n",
    "    def __init__(self,in_shape,num_logistics,num_classes, hidden_sizes = [1024, 1024, 1024]):\n",
    "        super(MADE, self).__init__()\n",
    "        self.in_shape = self.in_shape\n",
    "        self.flatten_shape = np.prod(self.in_shape)\n",
    "        self.hidden_sizes = hidden_sizes\n",
    "\n",
    "        self.num_logistics = num_logistics\n",
    "        self.num_classes = num_classes\n",
    "\n",
    "        self.pi = torch.randn(self.num_heads)\n",
    "        self.means = torch.arange(self.num_heads)\n",
    "        self.scales = torch.zeros(self.num_logistics)\n",
    "\n",
    "        self.masking_dict = {}\n",
    "    def init_masks(self):\n",
    "        num_hiddens = len(self.hidden_sizes)\n",
    "        ordering = np.arange(self.flatten_shape)\n",
    "        self.masking_dict[-1] = ordering\n",
    "\n",
    "        for h in range(num_hiddens):\n",
    "            self.masking_dict[h] = np.random.randint(low=self.masking_dict[h-1].min(), high=self.flatten_shape-1, size=self.hidden_sizes[h])\n",
    "        \n",
    "        masks = [self.masking_dict[h-1][:, None] <= self.masking_dict[h][None,:] for h in range(num_hiddens)]\n",
    "        masks.append(self.masking_dict[num_hiddens - 1][:,None] < self.masking_dict[-1][None, :])\n",
    "\n",
    "        masks[0] = np.repeat(masks[0], self.num_classes, axis = 0)\n",
    "        masks[-1] = np.repeat(masks[-1], self.num_classes, axis = 1)\n",
    "        \n",
    "\n",
    "\n",
    "\n",
    "\n",
    "\n"
   ]
  }
 ],
 "metadata": {
  "kernelspec": {
   "display_name": "Python 3.9.0 64-bit",
   "language": "python",
   "name": "python3"
  },
  "language_info": {
   "codemirror_mode": {
    "name": "ipython",
    "version": 3
   },
   "file_extension": ".py",
   "mimetype": "text/x-python",
   "name": "python",
   "nbconvert_exporter": "python",
   "pygments_lexer": "ipython3",
   "version": "3.9.0"
  },
  "orig_nbformat": 4,
  "vscode": {
   "interpreter": {
    "hash": "aee8b7b246df8f9039afb4144a1f6fd8d2ca17a180786b69acc140d282b71a49"
   }
  }
 },
 "nbformat": 4,
 "nbformat_minor": 2
}
