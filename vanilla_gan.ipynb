{
 "cells": [
  {
   "cell_type": "code",
   "execution_count": 2,
   "metadata": {},
   "outputs": [],
   "source": [
    "from tqdm import tqdm, trange\n",
    "import matplotlib.pyplot as plt\n",
    "import os\n",
    "import torch\n",
    "import torch.nn as nn\n",
    "import torch.nn.functional as F\n",
    "import numpy as np"
   ]
  },
  {
   "cell_type": "code",
   "execution_count": 3,
   "metadata": {},
   "outputs": [],
   "source": [
    "import pickle\n",
    "train_data_file = \"./data/mnist.pkl\"\n",
    "with open(train_data_file, \"rb\") as f:\n",
    "    data = pickle.load(f)\n",
    "\n",
    "train_data, test_data = torch.Tensor(data[\"train\"]), torch.Tensor(data[\"test\"])"
   ]
  },
  {
   "cell_type": "code",
   "execution_count": 4,
   "metadata": {},
   "outputs": [],
   "source": [
    "class Discriminator(nn.Module):\n",
    "    def __init__(self, in_shape, hidden_size):\n",
    "        super(Discriminator, self).__init__()\n",
    "        self.in_shape = in_shape\n",
    "        self.nin = np.prod(in_shape)\n",
    "        self.hidden_size = hidden_size\n",
    "\n",
    "        self.disc = nn.Sequential(nn.Linear(self.nin, self.hidden_size), self.LeakyReLU(0.1), nn.Linear(self.hidden_size, 1), nn.Sigmoid())\n",
    "    def forward(self, X):\n",
    "        return self.disc(X)\n",
    "\n",
    "class Generator(nn.Module):\n",
    "    def __init__(self, in_shape, hidden_size, latent_dim):\n",
    "        super(Generator, self).__init__()\n",
    "        self.in_shape = in_shape\n",
    "        self.hidden_size = hidden_size\n",
    "        self.nin = np.prod(in_shape)\n",
    "        self.latent_dim = latent_dim\n",
    "\n",
    "        self.gen = nn.Sequential(nn.Linear(self.latent_dim, self.hidden_size), nn.LeakyReLU(0.1), nn.Linear(self.hidden_size, self.nin), nn.Tanh())\n",
    "    def forward(self, X):\n",
    "        return self.gen(X)\n",
    "\n",
    "class GAN(nn.Module):\n",
    "    def __init__(self, in_shape, hidden_size, latent_dim):\n",
    "        super(GAN, self).__init__()\n",
    "        self.in_shape = in_shape\n",
    "        self.hidden_size = hidden_size\n",
    "        self.latent_dim = latent_dim\n",
    "\n",
    "        self.gen = Generator(self.in_shape, self.hidden_size, self.latent_dim)\n",
    "        self.disc = Generator(self.in_shape, self.hidden_size, self.latent_dim)\n",
    "\n",
    "    def forward(self, X):\n",
    "        X = X.view(X.shape[0], -1)\n",
    "\n",
    "        generated = self.gen(X)\n",
    "\n",
    "        out = self.disc(generated)\n",
    "\n",
    "        return out\n",
    "\n",
    "        "
   ]
  },
  {
   "cell_type": "code",
   "execution_count": null,
   "metadata": {},
   "outputs": [],
   "source": [
    "num_epochs = 20\n",
    "rec_loss = nn.MSELoss()\n",
    "device = \"cuda\" if torch.cuda.is_available() else \"cpu\"\n",
    "\n"
   ]
  }
 ],
 "metadata": {
  "kernelspec": {
   "display_name": "Python 3.9.0 64-bit",
   "language": "python",
   "name": "python3"
  },
  "language_info": {
   "codemirror_mode": {
    "name": "ipython",
    "version": 3
   },
   "file_extension": ".py",
   "mimetype": "text/x-python",
   "name": "python",
   "nbconvert_exporter": "python",
   "pygments_lexer": "ipython3",
   "version": "3.9.0"
  },
  "orig_nbformat": 4,
  "vscode": {
   "interpreter": {
    "hash": "aee8b7b246df8f9039afb4144a1f6fd8d2ca17a180786b69acc140d282b71a49"
   }
  }
 },
 "nbformat": 4,
 "nbformat_minor": 2
}
