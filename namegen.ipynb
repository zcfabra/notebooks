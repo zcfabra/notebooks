{
 "cells": [
  {
   "cell_type": "code",
   "execution_count": 24,
   "metadata": {},
   "outputs": [],
   "source": [
    "import os \n",
    "from tqdm import tqdm, trange\n",
    "import torch \n",
    "import torch.nn as nn\n",
    "import numpy as np\n",
    "import torch.nn.functional as F"
   ]
  },
  {
   "cell_type": "code",
   "execution_count": 25,
   "metadata": {},
   "outputs": [],
   "source": [
    "data_path = \"./data/names.txt\"\n",
    "\n",
    "with open(data_path, \"r\") as f:\n",
    "    raw_names = f.readlines()\n",
    "\n",
    "names_processed  = [name.lower().strip() for name in raw_names]"
   ]
  },
  {
   "cell_type": "code",
   "execution_count": 31,
   "metadata": {},
   "outputs": [],
   "source": [
    "def get_vocab(list_of_names):\n",
    "    vocab = {}\n",
    "    idx = 0\n",
    "    for each in list_of_names:\n",
    "        for char in each:\n",
    "            if char not in vocab:\n",
    "                vocab[char] = idx\n",
    "                idx+=1\n",
    "    vocab[\"*\"] = idx\n",
    "    idx+=1\n",
    "    vocab[\"<EOF>\"] = idx\n",
    "    return vocab"
   ]
  },
  {
   "cell_type": "code",
   "execution_count": 32,
   "metadata": {},
   "outputs": [],
   "source": [
    "def pad(list_of_names):\n",
    "    max_len = max([len(name) for name in list_of_names])\n",
    "    out = []\n",
    "\n",
    "    for name in list_of_names:\n",
    "        req = max_len - len(name)\n",
    "        chars = list(name)\n",
    "        chars += [\"<EOF>\"] + [\"*\"] * req\n",
    "        out.append(chars)\n",
    "    return out"
   ]
  },
  {
   "cell_type": "code",
   "execution_count": 39,
   "metadata": {},
   "outputs": [],
   "source": [
    "def list_to_torch(list_of_names, vocab):\n",
    "    out = []\n",
    "    for name in list_of_names:\n",
    "        chars = [vocab[char] for char in name]\n",
    "        out.append(chars)\n",
    "    \n",
    "    return torch.Tensor((out))\n",
    "    \n"
   ]
  },
  {
   "cell_type": "code",
   "execution_count": 40,
   "metadata": {},
   "outputs": [
    {
     "name": "stdout",
     "output_type": "stream",
     "text": [
      "torch.Size([18239, 16])\n"
     ]
    }
   ],
   "source": [
    "vocab = get_vocab(names_processed)\n",
    "# print(vocab)\n",
    "padded_names = pad(names_processed)\n",
    "input_data = list_to_torch(padded_names, vocab)\n",
    "print(input_data.shape)"
   ]
  },
  {
   "cell_type": "code",
   "execution_count": null,
   "metadata": {},
   "outputs": [],
   "source": [
    "class Gen(nn.Module):\n",
    "    def __init__(self, num_layers, vocab):\n",
    "        self.num_layers = num_layers\n",
    "        self.vocab = vocab\n",
    "        self.emb = nn.Embedding(128, len(self.vocab), padding_idx=self.vocab[\"*\"])\n",
    "\n",
    "        self.gru = nn.GRU()\n",
    "\n",
    "    "
   ]
  },
  {
   "cell_type": "code",
   "execution_count": null,
   "metadata": {},
   "outputs": [],
   "source": []
  }
 ],
 "metadata": {
  "kernelspec": {
   "display_name": "Python 3.9.0 64-bit",
   "language": "python",
   "name": "python3"
  },
  "language_info": {
   "codemirror_mode": {
    "name": "ipython",
    "version": 3
   },
   "file_extension": ".py",
   "mimetype": "text/x-python",
   "name": "python",
   "nbconvert_exporter": "python",
   "pygments_lexer": "ipython3",
   "version": "3.9.0"
  },
  "orig_nbformat": 4,
  "vscode": {
   "interpreter": {
    "hash": "aee8b7b246df8f9039afb4144a1f6fd8d2ca17a180786b69acc140d282b71a49"
   }
  }
 },
 "nbformat": 4,
 "nbformat_minor": 2
}
