{
 "cells": [
  {
   "cell_type": "code",
   "execution_count": 3,
   "metadata": {},
   "outputs": [
    {
     "name": "stdout",
     "output_type": "stream",
     "text": [
      "1.13.0\n"
     ]
    }
   ],
   "source": [
    "import torch\n",
    "import torch.nn as nn\n",
    "import numpy as np\n",
    "import os\n",
    "import torch.nn.functional as F\n",
    "import matplotlib.pyplot as plt\n",
    "from tqdm import tqdm, trange\n",
    "print(torch.__version__)\n"
   ]
  },
  {
   "cell_type": "code",
   "execution_count": 4,
   "metadata": {},
   "outputs": [
    {
     "name": "stdout",
     "output_type": "stream",
     "text": [
      "26\n"
     ]
    }
   ],
   "source": [
    "# working implementation taken from my rnn_warmup notebook in vec2beat\n",
    "\n",
    "\n",
    "all_chars = \"abcdefghijklmnopqrstuvwxyz*$\"\n",
    "print(all_chars.index(\"*\"))\n",
    "\n",
    "with open(\"./data/names.txt\") as f:\n",
    "    data = f.readlines()\n",
    "\n",
    "total_lens = [len(each.lower().strip()) for each in data]\n",
    "data_tensors_list = [torch.Tensor([all_chars.index(char) for char in each.lower().strip()]).int() for each in data]\n",
    "\n",
    "data_tensors_padded = torch.nn.utils.rnn.pad_sequence(data_tensors_list, batch_first=True, padding_value=26)"
   ]
  },
  {
   "cell_type": "code",
   "execution_count": 5,
   "metadata": {},
   "outputs": [],
   "source": [
    "class CustomSet(torch.utils.data.Dataset):\n",
    "    def __init__(self, src, lens):\n",
    "        super(CustomSet, self).__init__()\n",
    "\n",
    "        self.src = src\n",
    "        self.lens = lens\n",
    "        self.tgt = torch.zeros_like(self.src)\n",
    "        self.tgt[:,:-1] = self.src[:, 1:]\n",
    "        self.tgt[:, -1] = 26\n",
    "        for ix, each in enumerate(self.lens):\n",
    "            self.tgt[ix, each-1] = 27\n",
    "    def __len__(self):\n",
    "        return len(self.src)\n",
    "    def __getitem__(self, idx):\n",
    "        return self.src[idx], self.tgt[idx], self.lens[idx]"
   ]
  },
  {
   "cell_type": "code",
   "execution_count": 6,
   "metadata": {},
   "outputs": [],
   "source": [
    "class Net(nn.Module):\n",
    "    def __init__(self, in_size, h_size, out_size, n_layers,  device, dropout=0.5 ):\n",
    "        super(Net, self).__init__()\n",
    "        self.in_size = in_size\n",
    "        self.h_size = h_size\n",
    "        self.out_size = out_size\n",
    "        self.n_layers = n_layers\n",
    "        self.device = device\n",
    "        self.dropout=dropout\n",
    "\n",
    "        self.embed = nn.Embedding(in_size, h_size, padding_idx=26)\n",
    "        self.gru = nn.GRU(h_size, h_size, num_layers=2, batch_first =True, dropout=dropout)\n",
    "        self.fc = nn.Linear(h_size, out_features=out_size)\n",
    "\n",
    "    def forward(self, X, lens, h=None):\n",
    "        X = self.embed(X)\n",
    "        if h is None:\n",
    "            X = torch.nn.utils.rnn.pack_padded_sequence(X, lens, batch_first=True, enforce_sorted=False)\n",
    "            X, h = self.gru(X)\n",
    "            X, _ = torch.nn.utils.rnn.pad_packed_sequence(X, batch_first=True, padding_value=0, total_length=15)\n",
    "        else:\n",
    "            X, h = self.gru(X, h)\n",
    "        # X = F.softmax(X)\n",
    "        X = self.fc(X)\n",
    "        return X, h\n",
    "    \n",
    "    def generate(self, start=\"a\", len_gen=5):\n",
    "        out = start\n",
    "        h = torch.zeros(self.n_layers, self.h_size)\n",
    "        print(h.shape)\n",
    "        X = torch.Tensor([all_chars.index(start)]).long().to(self.device)\n",
    "        print(X.shape)\n",
    "        for p in range(len_gen):\n",
    "            preds, h = self.forward(X, None, h)\n",
    "            # print(\"PReds\",preds.shape)\n",
    "            dist = F.softmax(preds, dim=1)\n",
    "            # print(\"DIst\", dist.shape)\n",
    "            chosen = torch.multinomial(dist, 1)[0]\n",
    "            # print(chosen.shape)\n",
    "            X = chosen\n",
    "            out += all_chars[chosen.item()]\n",
    "        return out.split(\"$\")[0] if \"$\" in out else out\n",
    "\n",
    "\n",
    "\n",
    "\n",
    "        \n"
   ]
  },
  {
   "cell_type": "code",
   "execution_count": 7,
   "metadata": {},
   "outputs": [],
   "source": [
    "dset = CustomSet(data_tensors_padded, total_lens)\n",
    "loader = torch.utils.data.DataLoader(dset, batch_size=128, shuffle=True)\n",
    "device = torch.device(\"cpu\")\n"
   ]
  },
  {
   "cell_type": "code",
   "execution_count": 8,
   "metadata": {},
   "outputs": [
    {
     "name": "stderr",
     "output_type": "stream",
     "text": [
      "Ep: 49 142/143Loss: 1.5205427408218384: 100%|██████████| 50/50 [05:14<00:00,  6.28s/it]\n"
     ]
    }
   ],
   "source": [
    "model = Net(len(all_chars), 256, len(all_chars), 2, device).to(device)\n",
    "optim = torch.optim.Adam(model.parameters(), lr=0.0003)\n",
    "\n",
    "for ep in (pbar:=tqdm(range(50))):\n",
    "    for ix, (src, tgt, lens) in enumerate((loader)):\n",
    "        optim.zero_grad()\n",
    "        src = src.to(device).long()\n",
    "        tgt = tgt.to(device).long()\n",
    "\n",
    "        preds, _ = model(src, lens)\n",
    "\n",
    "        loss = F.cross_entropy(preds.permute(0,2,1),tgt, ignore_index=26)\n",
    "        loss.backward()\n",
    "        for param in model.parameters():\n",
    "            param.grad.data.clamp(-1,1)\n",
    "\n",
    "        optim.step()\n",
    "        pbar.set_description(f\"Ep: {ep} {ix}/{len(loader)}Loss: {loss.item()}\")\n"
   ]
  },
  {
   "cell_type": "code",
   "execution_count": 9,
   "metadata": {},
   "outputs": [
    {
     "name": "stdout",
     "output_type": "stream",
     "text": [
      "torch.Size([2, 256])\n",
      "torch.Size([1])\n"
     ]
    },
    {
     "data": {
      "text/plain": [
       "'zacharia'"
      ]
     },
     "execution_count": 9,
     "metadata": {},
     "output_type": "execute_result"
    }
   ],
   "source": [
    "model.eval()\n",
    "model.generate(\"z\", 9)"
   ]
  },
  {
   "cell_type": "code",
   "execution_count": null,
   "metadata": {},
   "outputs": [],
   "source": []
  }
 ],
 "metadata": {
  "kernelspec": {
   "display_name": "Python 3.9.6 64-bit",
   "language": "python",
   "name": "python3"
  },
  "language_info": {
   "codemirror_mode": {
    "name": "ipython",
    "version": 3
   },
   "file_extension": ".py",
   "mimetype": "text/x-python",
   "name": "python",
   "nbconvert_exporter": "python",
   "pygments_lexer": "ipython3",
   "version": "3.9.6"
  },
  "orig_nbformat": 4,
  "vscode": {
   "interpreter": {
    "hash": "31f2aee4e71d21fbe5cf8b01ff0e069b9275f58929596ceb00d14d90e3e16cd6"
   }
  }
 },
 "nbformat": 4,
 "nbformat_minor": 2
}
