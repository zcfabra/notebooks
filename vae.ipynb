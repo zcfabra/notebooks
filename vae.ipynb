{
 "cells": [
  {
   "cell_type": "code",
   "execution_count": 1,
   "metadata": {},
   "outputs": [],
   "source": [
    "from tqdm import tqdm, trange\n",
    "import matplotlib.pyplot as plt\n",
    "import os\n",
    "import torch\n",
    "import torch.nn as nn\n",
    "import torch.nn.functional as F\n",
    "import numpy as np"
   ]
  },
  {
   "cell_type": "code",
   "execution_count": 3,
   "metadata": {},
   "outputs": [],
   "source": [
    "#  Input -> encoder -> gaussian (mean, std.dev) -> decoder -> reconstruction\n",
    "\n",
    "class VAE(nn.Module):\n",
    "    def __init__(self, in_shape,hidden_size, latent_size ):\n",
    "        super(VAE, self).__init__()\n",
    "\n",
    "        self.nin = np.prod(in_shape)\n",
    "        self.latent_size = latent_size\n",
    "\n",
    "\n",
    "        self.e_l1 = nn.Linear(self.nin, hidden_size)\n",
    "        self.e_l2 = nn.Linear(hidden_size, hidden_size)\n",
    "        self.mu = nn.Linear(hidden_size, self.latent_size)\n",
    "        self.sigma  = nn.Linear(hidden_size, self.latent_size)\n",
    "\n",
    "        self.d_l1 = nn.Linear(self.latent_size, self.hidden_size)\n",
    "        self.d_l2 = nn.Linear(self.hidden_size, self.nin)\n",
    "        \n",
    "\n",
    "def forward(self, X):\n",
    "    X = X.reshape(X.shape[0], -1)\n",
    "    X = self.enc(self.e_l2(self.e_l1(X)))\n",
    "\n",
    "    mu,sigma = self.mu(X), self.sigma(X)\n",
    "\n",
    "    g = (mu + sigma) * torch.randn_like(sigma)\n",
    "\n",
    "    out = self.d_l1(g)\n",
    "    out = self.d_l2(g)\n",
    "\n",
    "    return out\n",
    "\n",
    "\n",
    "\n",
    "\n",
    "    \n",
    "\n",
    "\n",
    "\n",
    "    return g \n",
    "\n",
    "\n",
    "\n",
    "\n",
    "\n",
    "\n",
    "\n",
    "    "
   ]
  },
  {
   "cell_type": "code",
   "execution_count": null,
   "metadata": {},
   "outputs": [],
   "source": []
  }
 ],
 "metadata": {
  "kernelspec": {
   "display_name": "Python 3.9.0 64-bit",
   "language": "python",
   "name": "python3"
  },
  "language_info": {
   "codemirror_mode": {
    "name": "ipython",
    "version": 3
   },
   "file_extension": ".py",
   "mimetype": "text/x-python",
   "name": "python",
   "nbconvert_exporter": "python",
   "pygments_lexer": "ipython3",
   "version": "3.9.0"
  },
  "orig_nbformat": 4,
  "vscode": {
   "interpreter": {
    "hash": "aee8b7b246df8f9039afb4144a1f6fd8d2ca17a180786b69acc140d282b71a49"
   }
  }
 },
 "nbformat": 4,
 "nbformat_minor": 2
}
