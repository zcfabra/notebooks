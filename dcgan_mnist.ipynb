{
 "cells": [
  {
   "cell_type": "code",
   "execution_count": 30,
   "metadata": {},
   "outputs": [],
   "source": [
    "from tqdm import tqdm, trange\n",
    "import matplotlib.pyplot as plt\n",
    "import os\n",
    "import torch\n",
    "import torch.nn as nn\n",
    "import torch.nn.functional as F\n",
    "import numpy as np"
   ]
  },
  {
   "cell_type": "code",
   "execution_count": 94,
   "metadata": {},
   "outputs": [],
   "source": [
    "class GeneratorBlock(nn.Sequential):\n",
    "    def __init__(self, in_channels,out_channels, kernel_size, stride, padding):\n",
    "        super(GeneratorBlock, self).__init__()\n",
    "\n",
    "        self.conv = nn.ConvTranspose2d(in_channels=in_channels, out_channels=out_channels, kernel_size=kernel_size, stride=stride, padding=padding, bias=False)\n",
    "        # torch.nn.init.normal_(self.conv.weight, mean=0, std=0.02)\n",
    "        self.bn = nn.BatchNorm2d(out_channels)\n",
    "        # torch.nn.init.normal_(self.bn.weight, mean=0, std=0.02)\n",
    "        nn.ReLU()\n",
    "\n",
    "\n",
    "class Generator(nn.Module):\n",
    "    def __init__(self, in_shape, n_features, latent_dim, device):\n",
    "        super(Generator, self).__init__()\n",
    "        self.in_shape = in_shape\n",
    "        self.n_features = n_features\n",
    "        self.latent_dim = latent_dim\n",
    "        self.device = device\n",
    "\n",
    "        self.net = nn.Sequential(\n",
    "            GeneratorBlock(self.latent_dim,self.n_features*4,7,1,0),\n",
    "            GeneratorBlock(self.n_features*4,self.n_features*2,4,2,1),\n",
    "            GeneratorBlock(self.n_features*2, self.n_features,4,2,1),\n",
    "            nn.ConvTranspose2d(self.n_features,1,3,1,1, bias=False),\n",
    "            nn.Tanh()\n",
    "        )\n",
    "    def forward(self):\n",
    "        X = torch.randn(64, 100).unsqueeze(-1).unsqueeze(-1)\n",
    "        X =X.to(self.device)\n",
    "        # print(X.shape)\n",
    "        return self.net(X)\n",
    "\n",
    "class DiscriminatorBlock(nn.Sequential):\n",
    "    def __init__(self, in_channels,out_channels,kernel_size,stride,padding):\n",
    "        super(DiscriminatorBlock, self).__init__()\n",
    "        self.conv = nn.Conv2d(in_channels=in_channels, out_channels=out_channels, kernel_size=kernel_size, stride=stride, padding=padding, bias=False)\n",
    "        # torch.nn.init.normal_(self.conv.weight, mean=0, std=0.02)\n",
    "        self.bn = nn.BatchNorm2d(out_channels)\n",
    "        # torch.nn.init.normal_(self.bn.weight, mean=0, std=0.02)\n",
    "\n",
    "        nn.LeakyReLU(0.2)\n",
    "\n",
    "\n",
    "\n",
    "class Discriminator(nn.Module):\n",
    "    def __init__(self, in_shape, latent_dim, n_features, leak, device):\n",
    "        super(Discriminator, self).__init__()\n",
    "        self.device = device\n",
    "        self.net = nn.Sequential(\n",
    "            nn.Conv2d(1, n_features, 4, 2,1, bias=False),\n",
    "            nn.LeakyReLU(leak),\n",
    "            DiscriminatorBlock(n_features, n_features*2, 4,2,1),\n",
    "            DiscriminatorBlock(n_features*2, n_features*4, 4,2,1),\n",
    "            nn.Conv2d(n_features*4, 1, 4, 1,1),\n",
    "            # nn.Flatten(1, -1),\n",
    "            nn.Sigmoid()\n",
    "        )\n",
    "\n",
    "    def forward(self,X):\n",
    "        return self.net(X).view(-1,1).squeeze(1)\n",
    "\n",
    "\n"
   ]
  },
  {
   "cell_type": "code",
   "execution_count": 95,
   "metadata": {},
   "outputs": [
    {
     "name": "stdout",
     "output_type": "stream",
     "text": [
      "torch.Size([128, 32, 14, 14])\n",
      "torch.Size([128, 64, 7, 7])\n",
      "torch.Size([128, 128, 3, 3])\n",
      "torch.Size([128, 1, 1, 1])\n"
     ]
    }
   ],
   "source": [
    "# DIscrim\n",
    "\n",
    "X = torch.randn(128, 1,28,28)\n",
    "\n",
    "c1 = nn.Conv2d(1, 32, 4, 2,1)\n",
    "c2 = nn.Conv2d(32, 32*2, 4, 2,1)\n",
    "c3 = nn.Conv2d(32*2, 32*4, 4, 2,1)\n",
    "c4 = nn.Conv2d(32*4, 1, 4, 2,1)\n",
    "\n",
    "X = c1(X)\n",
    "print(X.shape)\n",
    "\n",
    "X = c2(X)\n",
    "print(X.shape)\n",
    "\n",
    "\n",
    "X = c3(X)\n",
    "print(X.shape)\n",
    "\n",
    "X = c4(X)\n",
    "print(X.shape)\n",
    "\n"
   ]
  },
  {
   "cell_type": "code",
   "execution_count": 96,
   "metadata": {},
   "outputs": [],
   "source": [
    "import pickle\n",
    "import torchvision\n",
    "device = \"cuda\" if torch.cuda.is_available() else \"cpu\"\n",
    "transforms = torchvision.transforms.Compose([\n",
    "    torchvision.transforms.ToTensor(),\n",
    "    torchvision.transforms.Normalize(0.5, 0.5),\n",
    "])\n",
    "dataset = torchvision.datasets.MNIST(\"./data\", train=True, download=True, transform=transforms)"
   ]
  },
  {
   "cell_type": "code",
   "execution_count": 115,
   "metadata": {},
   "outputs": [
    {
     "name": "stdout",
     "output_type": "stream",
     "text": [
      "Starting epoch 0\n"
     ]
    },
    {
     "name": "stderr",
     "output_type": "stream",
     "text": [
      "100%|██████████| 469/469 [04:52<00:00,  1.60it/s]\n"
     ]
    },
    {
     "name": "stdout",
     "output_type": "stream",
     "text": [
      "Starting epoch 1\n"
     ]
    },
    {
     "name": "stderr",
     "output_type": "stream",
     "text": [
      "100%|██████████| 469/469 [04:58<00:00,  1.57it/s]\n"
     ]
    },
    {
     "name": "stdout",
     "output_type": "stream",
     "text": [
      "Starting epoch 2\n"
     ]
    },
    {
     "name": "stderr",
     "output_type": "stream",
     "text": [
      "100%|██████████| 469/469 [05:15<00:00,  1.49it/s]\n"
     ]
    },
    {
     "name": "stdout",
     "output_type": "stream",
     "text": [
      "Starting epoch 3\n"
     ]
    },
    {
     "name": "stderr",
     "output_type": "stream",
     "text": [
      "100%|██████████| 469/469 [05:06<00:00,  1.53it/s]\n"
     ]
    },
    {
     "name": "stdout",
     "output_type": "stream",
     "text": [
      "Starting epoch 4\n"
     ]
    },
    {
     "name": "stderr",
     "output_type": "stream",
     "text": [
      "100%|██████████| 469/469 [05:46<00:00,  1.35it/s]\n"
     ]
    },
    {
     "name": "stdout",
     "output_type": "stream",
     "text": [
      "Starting epoch 5\n"
     ]
    },
    {
     "name": "stderr",
     "output_type": "stream",
     "text": [
      "100%|██████████| 469/469 [06:32<00:00,  1.20it/s]\n"
     ]
    },
    {
     "name": "stdout",
     "output_type": "stream",
     "text": [
      "Starting epoch 6\n"
     ]
    },
    {
     "name": "stderr",
     "output_type": "stream",
     "text": [
      "100%|██████████| 469/469 [06:06<00:00,  1.28it/s]\n"
     ]
    },
    {
     "name": "stdout",
     "output_type": "stream",
     "text": [
      "Starting epoch 7\n"
     ]
    },
    {
     "name": "stderr",
     "output_type": "stream",
     "text": [
      "100%|██████████| 469/469 [04:59<00:00,  1.57it/s]\n"
     ]
    },
    {
     "name": "stdout",
     "output_type": "stream",
     "text": [
      "Starting epoch 8\n"
     ]
    },
    {
     "name": "stderr",
     "output_type": "stream",
     "text": [
      "100%|██████████| 469/469 [04:43<00:00,  1.66it/s]\n"
     ]
    },
    {
     "name": "stdout",
     "output_type": "stream",
     "text": [
      "Starting epoch 9\n"
     ]
    },
    {
     "name": "stderr",
     "output_type": "stream",
     "text": [
      "100%|██████████| 469/469 [04:30<00:00,  1.73it/s]\n"
     ]
    },
    {
     "name": "stdout",
     "output_type": "stream",
     "text": [
      "Starting epoch 10\n"
     ]
    },
    {
     "name": "stderr",
     "output_type": "stream",
     "text": [
      "100%|██████████| 469/469 [05:51<00:00,  1.33it/s]\n"
     ]
    },
    {
     "name": "stdout",
     "output_type": "stream",
     "text": [
      "Starting epoch 11\n"
     ]
    },
    {
     "name": "stderr",
     "output_type": "stream",
     "text": [
      "100%|██████████| 469/469 [05:23<00:00,  1.45it/s]\n"
     ]
    },
    {
     "name": "stdout",
     "output_type": "stream",
     "text": [
      "Starting epoch 12\n"
     ]
    },
    {
     "name": "stderr",
     "output_type": "stream",
     "text": [
      "100%|██████████| 469/469 [05:50<00:00,  1.34it/s]\n"
     ]
    },
    {
     "name": "stdout",
     "output_type": "stream",
     "text": [
      "Starting epoch 13\n"
     ]
    },
    {
     "name": "stderr",
     "output_type": "stream",
     "text": [
      "100%|██████████| 469/469 [06:30<00:00,  1.20it/s]\n"
     ]
    },
    {
     "name": "stdout",
     "output_type": "stream",
     "text": [
      "Starting epoch 14\n"
     ]
    },
    {
     "name": "stderr",
     "output_type": "stream",
     "text": [
      "100%|██████████| 469/469 [06:03<00:00,  1.29it/s]\n"
     ]
    },
    {
     "name": "stdout",
     "output_type": "stream",
     "text": [
      "Starting epoch 15\n"
     ]
    },
    {
     "name": "stderr",
     "output_type": "stream",
     "text": [
      "100%|██████████| 469/469 [06:48<00:00,  1.15it/s]\n"
     ]
    },
    {
     "name": "stdout",
     "output_type": "stream",
     "text": [
      "Starting epoch 16\n"
     ]
    },
    {
     "name": "stderr",
     "output_type": "stream",
     "text": [
      "100%|██████████| 469/469 [06:07<00:00,  1.28it/s]\n"
     ]
    },
    {
     "name": "stdout",
     "output_type": "stream",
     "text": [
      "Starting epoch 17\n"
     ]
    },
    {
     "name": "stderr",
     "output_type": "stream",
     "text": [
      "100%|██████████| 469/469 [04:22<00:00,  1.78it/s]\n"
     ]
    },
    {
     "name": "stdout",
     "output_type": "stream",
     "text": [
      "Starting epoch 18\n"
     ]
    },
    {
     "name": "stderr",
     "output_type": "stream",
     "text": [
      "100%|██████████| 469/469 [03:58<00:00,  1.97it/s]\n"
     ]
    },
    {
     "name": "stdout",
     "output_type": "stream",
     "text": [
      "Starting epoch 19\n"
     ]
    },
    {
     "name": "stderr",
     "output_type": "stream",
     "text": [
      "100%|██████████| 469/469 [03:58<00:00,  1.97it/s]\n"
     ]
    },
    {
     "name": "stdout",
     "output_type": "stream",
     "text": [
      "Starting epoch 20\n"
     ]
    },
    {
     "name": "stderr",
     "output_type": "stream",
     "text": [
      "100%|██████████| 469/469 [03:57<00:00,  1.98it/s]\n"
     ]
    },
    {
     "name": "stdout",
     "output_type": "stream",
     "text": [
      "Starting epoch 21\n"
     ]
    },
    {
     "name": "stderr",
     "output_type": "stream",
     "text": [
      "100%|██████████| 469/469 [04:12<00:00,  1.86it/s]\n"
     ]
    },
    {
     "name": "stdout",
     "output_type": "stream",
     "text": [
      "Starting epoch 22\n"
     ]
    },
    {
     "name": "stderr",
     "output_type": "stream",
     "text": [
      "100%|██████████| 469/469 [03:57<00:00,  1.98it/s]\n"
     ]
    },
    {
     "name": "stdout",
     "output_type": "stream",
     "text": [
      "Starting epoch 23\n"
     ]
    },
    {
     "name": "stderr",
     "output_type": "stream",
     "text": [
      "100%|██████████| 469/469 [04:17<00:00,  1.82it/s]\n"
     ]
    },
    {
     "name": "stdout",
     "output_type": "stream",
     "text": [
      "Starting epoch 24\n"
     ]
    },
    {
     "name": "stderr",
     "output_type": "stream",
     "text": [
      "100%|██████████| 469/469 [04:16<00:00,  1.83it/s]\n"
     ]
    },
    {
     "name": "stdout",
     "output_type": "stream",
     "text": [
      "Starting epoch 25\n"
     ]
    },
    {
     "name": "stderr",
     "output_type": "stream",
     "text": [
      "100%|██████████| 469/469 [06:12<00:00,  1.26it/s]\n"
     ]
    },
    {
     "name": "stdout",
     "output_type": "stream",
     "text": [
      "Starting epoch 26\n"
     ]
    },
    {
     "name": "stderr",
     "output_type": "stream",
     "text": [
      "100%|██████████| 469/469 [07:03<00:00,  1.11it/s]\n"
     ]
    },
    {
     "name": "stdout",
     "output_type": "stream",
     "text": [
      "Starting epoch 27\n"
     ]
    },
    {
     "name": "stderr",
     "output_type": "stream",
     "text": [
      "100%|██████████| 469/469 [05:26<00:00,  1.44it/s]\n"
     ]
    },
    {
     "name": "stdout",
     "output_type": "stream",
     "text": [
      "Starting epoch 28\n"
     ]
    },
    {
     "name": "stderr",
     "output_type": "stream",
     "text": [
      "100%|██████████| 469/469 [06:08<00:00,  1.27it/s]\n"
     ]
    },
    {
     "name": "stdout",
     "output_type": "stream",
     "text": [
      "Starting epoch 29\n"
     ]
    },
    {
     "name": "stderr",
     "output_type": "stream",
     "text": [
      "100%|██████████| 469/469 [06:03<00:00,  1.29it/s]\n"
     ]
    }
   ],
   "source": [
    "\n",
    "gen = Generator((28,28,1), 32, 100,device)\n",
    "gen = gen.to(device)\n",
    "disc = Discriminator((28,28,1), 100, 32, 0.2,device)\n",
    "disc=disc.to(device)\n",
    "num_epochs = 30\n",
    "loader = torch.utils.data.DataLoader(dataset,batch_size=128, shuffle=True)\n",
    "optim_disc = torch.optim.Adam(disc.parameters(), lr=2e-4)\n",
    "optim_gen = torch.optim.Adam(gen.parameters(), lr=2e-4)\n",
    "loss_fn = nn.BCELoss()\n",
    "gen.train()\n",
    "disc.train()\n",
    "gen_losses = []\n",
    "disc_losses = []\n",
    "for ep in range(num_epochs):\n",
    "    print(f\"Starting epoch {ep}\")\n",
    "    for src,_ in tqdm(loader):\n",
    "        optim_disc.zero_grad()\n",
    "        optim_gen.zero_grad()\n",
    "        fake = gen()\n",
    "        # real = src.permute(0,3,1,2)\n",
    "        real = src\n",
    "        disc_real = disc(real)\n",
    "        # print(disc_real.shape)\n",
    "        disc_fake = disc(fake)\n",
    "\n",
    "        disc_real_loss = loss_fn(disc_real, torch.ones_like(disc_real))\n",
    "        disc_fake_loss = loss_fn(disc_fake, torch.zeros_like(disc_fake))\n",
    "\n",
    "        disc_loss = (disc_real_loss + disc_fake_loss) / 2\n",
    "        disc_losses.append(disc_loss.item())\n",
    "\n",
    "        disc_loss.backward(retain_graph=True)\n",
    "        optim_disc.step()\n",
    "\n",
    "\n",
    "\n",
    "        out = disc(fake)\n",
    "        gen_loss = loss_fn(out, torch.ones_like(out))\n",
    "        gen_losses.append(gen_loss.item())\n",
    "\n",
    "        gen_loss.backward()\n",
    "        optim_gen.step()\n",
    "\n",
    "\n",
    "\n"
   ]
  },
  {
   "cell_type": "code",
   "execution_count": 116,
   "metadata": {},
   "outputs": [
    {
     "data": {
      "text/plain": [
       "[<matplotlib.lines.Line2D at 0x7fac07bbf490>]"
      ]
     },
     "execution_count": 116,
     "metadata": {},
     "output_type": "execute_result"
    },
    {
     "data": {
      "image/png": "[encoded data removed]",
      "text/plain": [
       "<Figure size 432x288 with 1 Axes>"
      ]
     },
     "metadata": {
      "needs_background": "light"
     },
     "output_type": "display_data"
    }
   ],
   "source": [
    "plt.plot(disc_losses)"
   ]
  },
  {
   "cell_type": "code",
   "execution_count": 108,
   "metadata": {},
   "outputs": [],
   "source": [
    "torch.save({\n",
    "    \"epoch\": ep,\n",
    "    \"disc_state\": disc.state_dict(),\n",
    "    \"gen_state\": gen.state_dict(),\n",
    "    \"gen_opt\": optim_gen.state_dict(),\n",
    "    \"disc_opt\": optim_disc.state_dict(),\n",
    "    \"gen_loss\": gen_loss,\n",
    "    \"disc_loss\": disc_loss\n",
    "},\"progress.pt\")"
   ]
  },
  {
   "cell_type": "code",
   "execution_count": 117,
   "metadata": {},
   "outputs": [],
   "source": [
    "from torchvision.utils import make_grid\n",
    "def show_samples(samples, fname=None, nrow=10, title='Samples'):\n",
    "    samples = (torch.FloatTensor(samples)).permute(0, 3, 1, 2)\n",
    "    grid_img = make_grid(samples, nrow=nrow)\n",
    "    plt.figure()\n",
    "    plt.title(title)\n",
    "\n",
    "\n",
    "    plt.imshow(grid_img.permute(1, 2, 0))\n",
    "    plt.axis('off')\n",
    "\n",
    "    if fname is not None:\n",
    "        print(\"Yow\")\n",
    "    else:\n",
    "        plt.show()"
   ]
  },
  {
   "cell_type": "code",
   "execution_count": 118,
   "metadata": {},
   "outputs": [
    {
     "name": "stderr",
     "output_type": "stream",
     "text": [
      "Clipping input data to the valid range for imshow with RGB data ([0..1] for floats or [0..255] for integers).\n"
     ]
    },
    {
     "name": "stdout",
     "output_type": "stream",
     "text": [
      "torch.Size([64, 1, 28, 28])\n",
      "tensor(1.) tensor(-1.)\n"
     ]
    },
    {
     "data": {
      "image/png": "[encoded data removed]",
      "text/plain": [
       "<Figure size 432x288 with 1 Axes>"
      ]
     },
     "metadata": {
      "needs_background": "light"
     },
     "output_type": "display_data"
    }
   ],
   "source": [
    "with torch.no_grad():\n",
    "    gen.eval()\n",
    "    preds = gen()\n",
    "    print(preds.shape)\n",
    "    print(torch.max(preds), torch.min(preds))\n",
    "\n",
    "show_samples(preds.permute(0,2,3,1))"
   ]
  },
  {
   "cell_type": "code",
   "execution_count": null,
   "metadata": {},
   "outputs": [],
   "source": []
  }
 ],
 "metadata": {
  "kernelspec": {
   "display_name": "Python 3.9.0 64-bit",
   "language": "python",
   "name": "python3"
  },
  "language_info": {
   "codemirror_mode": {
    "name": "ipython",
    "version": 3
   },
   "file_extension": ".py",
   "mimetype": "text/x-python",
   "name": "python",
   "nbconvert_exporter": "python",
   "pygments_lexer": "ipython3",
   "version": "3.9.0"
  },
  "orig_nbformat": 4,
  "vscode": {
   "interpreter": {
    "hash": "aee8b7b246df8f9039afb4144a1f6fd8d2ca17a180786b69acc140d282b71a49"
   }
  }
 },
 "nbformat": 4,
 "nbformat_minor": 2
}
