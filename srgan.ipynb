{
 "cells": [
  {
   "cell_type": "code",
   "execution_count": 2,
   "metadata": {},
   "outputs": [
    {
     "name": "stderr",
     "output_type": "stream",
     "text": [
      "/Users/doriclink/Library/Python/3.9/lib/python/site-packages/tqdm/auto.py:22: TqdmWarning: IProgress not found. Please update jupyter and ipywidgets. See https://ipywidgets.readthedocs.io/en/stable/user_install.html\n",
      "  from .autonotebook import tqdm as notebook_tqdm\n"
     ]
    }
   ],
   "source": [
    "import torch\n",
    "import torch.nn as nn\n",
    "import numpy as np\n",
    "import os\n",
    "import torch.nn.functional as F\n",
    "import matplotlib.pyplot as plt\n",
    "from tqdm import tqdm, trange\n",
    "import torchvision"
   ]
  },
  {
   "cell_type": "code",
   "execution_count": 18,
   "metadata": {},
   "outputs": [],
   "source": [
    "\n",
    "class ResBlock(nn.Module):\n",
    "    def __init__(self, n_features):\n",
    "        super(ResBlock,self).__init__()\n",
    "\n",
    "\n",
    "        self.layers = nn.Sequential(\n",
    "            nn.Conv2d(n_features, n_features, 3, 1, 1, bias=False),\n",
    "            nn.BatchNorm2d(n_features),\n",
    "            nn.PReLU(n_features),\n",
    "            nn.Conv2d(n_features, n_features, 3, 1, 1, bias=False),\n",
    "            nn.BatchNorm2d(n_features),\n",
    "            nn.PReLU(n_features),\n",
    "        )\n",
    "\n",
    "    def forward(self,X ):\n",
    "        return self.layers(X) + X\n",
    "\n",
    "class Body(nn.Module):\n",
    "    def __init__(self, n_features, n_blocks):\n",
    "        super(Body, self).__init__()\n",
    "\n",
    "        self.n_features = n_features\n",
    "        self.n_blocks = n_blocks\n",
    "\n",
    "        self.blocks = nn.Sequential(*[ResBlock(n_features) for _ in range(n_blocks)])\n",
    "\n",
    "    def forward(self, X):\n",
    "        return self.blocks(X)\n",
    "\n",
    "\n",
    "\n",
    "class Generator(nn.Module):\n",
    "    \n",
    "    def __init__(self, device, n_channels, n_features, n_blocks):\n",
    "        super(Generator, self).__init__()\n",
    "        def upsample(n_features, n_features_up, up_factor=2):\n",
    "            return nn.Sequential(\n",
    "                nn.Conv2d(n_features, n_features_up, 3, 1, 1, bias=False),\n",
    "                nn.PixelShuffle(up_factor),\n",
    "                nn.PReLU(n_features_up//4)\n",
    "        )\n",
    "        self.device = device\n",
    "        self.n_channels = n_channels\n",
    "        self.n_features = n_features\n",
    "        self.n_blocks = n_blocks\n",
    "\n",
    "        self.in_conv = nn.Sequential(\n",
    "            nn.Conv2d(n_channels, n_features, 9, 1, 4,bias=False),\n",
    "            nn.PReLU(n_features)\n",
    "        )\n",
    "\n",
    "        self.body = Body(n_features=n_features, n_blocks=n_blocks)\n",
    "\n",
    "        self.final_conv = nn.Sequential(\n",
    "            nn.Conv2d(n_features, n_features, 3,1,1,bias=False),\n",
    "            nn.BatchNorm2d(n_features)\n",
    "        )\n",
    "\n",
    "        self.up_sample = nn.Sequential(\n",
    "            upsample(n_features, n_features*16),\n",
    "            upsample(n_features*4, n_features*16)\n",
    "        )\n",
    "        self.out = nn.Sequential(\n",
    "            nn.Conv2d(n_features*4, n_channels, 9,1,4,bias=False),\n",
    "\n",
    "        )\n",
    "\n",
    "\n",
    "    \n",
    "    def forward(self, X):\n",
    "        X = self.in_conv(X)\n",
    "        X = self.final_conv(self.body(X)) + X\n",
    "        X = self.up_sample(X)\n",
    "        return self.out(X)\n",
    "\n",
    "\n",
    "class DiscBlock(nn.Module):\n",
    "    def __init__(self, n_features_in, n_features_out, stride, padding):\n",
    "        super(DiscBlock, self).__init__()\n",
    "        \n",
    "        self.net = nn.Sequential(\n",
    "            nn.Conv2d(n_features_in, n_features_out, 3, stride=stride,padding=padding,bias=False),\n",
    "            nn.BatchNorm2d(n_features_out),\n",
    "            nn.LeakyReLU(0.2)\n",
    "        )\n",
    "\n",
    "    def forward(self, X):\n",
    "        return self.net(X)\n",
    "\n",
    "class Discriminator(nn.Module):\n",
    "    def __init__(self, n_channels, n_features):\n",
    "        super(Discriminator, self).__init__()\n",
    "        \n",
    "        self.in_conv = nn.Sequential(\n",
    "            nn.Conv2d(n_channels, n_features, 3, 1,1,bias=False),\n",
    "            nn.LeakyReLU(0.2)\n",
    "        )\n",
    "\n",
    "        self.layers = nn.Sequential(\n",
    "            DiscBlock(n_features, n_features*2, 3,1),\n",
    "            DiscBlock(n_features*2, n_features*2, 3,1),\n",
    "            DiscBlock(n_features*2, n_features*4, 3,1),\n",
    "            DiscBlock(n_features*4, n_features*4, 3,1),\n",
    "            DiscBlock(n_features*4, n_features*8, 3,1),\n",
    "            DiscBlock(n_features*8, n_features*8, 3,1),\n",
    "            nn.Flatten(1,-1),\n",
    "            nn.Linear(n_features*8, n_features*16),\n",
    "            nn.LeakyReLU(0.2),\n",
    "            nn.Linear(n_features*16, 1),\n",
    "            nn.Sigmoid(),\n",
    "            nn.Flatten(0,-1)\n",
    "        )\n",
    "\n",
    "    def forward(self, X):\n",
    "        X = self.in_conv(X)\n",
    "        return self.layers(X)\n",
    "\n",
    "    "
   ]
  },
  {
   "cell_type": "code",
   "execution_count": 19,
   "metadata": {},
   "outputs": [
    {
     "name": "stderr",
     "output_type": "stream",
     "text": [
      "  0%|          | 0/10 [00:00<?, ?it/s]"
     ]
    },
    {
     "name": "stdout",
     "output_type": "stream",
     "text": [
      "torch.Size([32, 3, 96, 96])\n",
      "torch.Size([32])\n"
     ]
    },
    {
     "name": "stderr",
     "output_type": "stream",
     "text": [
      "\n"
     ]
    }
   ],
   "source": [
    "\n",
    "\n",
    "import dotenv\n",
    "\n",
    "f = open(\".env\", \"w\")\n",
    "f.write('PYTORCH_ENABLE_MPS_FALLBACK=\"1\"')\n",
    "f.close()\n",
    "\n",
    "dotenv.load_dotenv(\"../.env\", override=True)\n",
    "\n",
    "device = torch.device(\"mps\")\n",
    "\n",
    "X = torch.randn(32, 3, 24,24)\n",
    "\n",
    "gen = Generator(device, 3, 64, 16)\n",
    "gen = gen.to(device)\n",
    "\n",
    "disc = Discriminator(3, 64).to(device)\n",
    "\n",
    "\n",
    "for _ in tqdm(range(10)):\n",
    "    X = torch.randn(32, 3, 24,24).to(device)\n",
    "    preds = gen(X)\n",
    "    print(preds.shape)\n",
    "    out = disc(preds)\n",
    "    print(out.shape)\n",
    "    break\n",
    "\n"
   ]
  },
  {
   "cell_type": "code",
   "execution_count": null,
   "metadata": {},
   "outputs": [],
   "source": []
  },
  {
   "cell_type": "code",
   "execution_count": null,
   "metadata": {},
   "outputs": [],
   "source": []
  }
 ],
 "metadata": {
  "kernelspec": {
   "display_name": "Python 3.9.6 64-bit",
   "language": "python",
   "name": "python3"
  },
  "language_info": {
   "codemirror_mode": {
    "name": "ipython",
    "version": 3
   },
   "file_extension": ".py",
   "mimetype": "text/x-python",
   "name": "python",
   "nbconvert_exporter": "python",
   "pygments_lexer": "ipython3",
   "version": "3.9.6"
  },
  "orig_nbformat": 4,
  "vscode": {
   "interpreter": {
    "hash": "31f2aee4e71d21fbe5cf8b01ff0e069b9275f58929596ceb00d14d90e3e16cd6"
   }
  }
 },
 "nbformat": 4,
 "nbformat_minor": 2
}
