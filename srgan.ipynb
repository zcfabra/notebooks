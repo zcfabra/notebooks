{
 "cells": [
  {
   "cell_type": "code",
   "execution_count": 8,
   "metadata": {},
   "outputs": [],
   "source": [
    "import torch\n",
    "import torch.nn as nn\n",
    "import numpy as np\n",
    "import os\n",
    "import torch.nn.functional as F\n",
    "import matplotlib.pyplot as plt\n",
    "from tqdm import tqdm, trange\n",
    "import torchvision"
   ]
  },
  {
   "cell_type": "code",
   "execution_count": 3,
   "metadata": {},
   "outputs": [],
   "source": [
    "# Using weights from https://github.com/mseitzer/srgan/\n",
    "\n",
    "\n",
    "gen_weights = torch.load(\"./weights/srgan_generator.pth\")\n",
    "\n",
    "\n"
   ]
  },
  {
   "cell_type": "code",
   "execution_count": 4,
   "metadata": {},
   "outputs": [],
   "source": [
    "\n",
    "# Generator\n",
    "    # Input of 3 x 96 x 96 (C x W x H)\n",
    "    # ***\n",
    "    # N Res-Blocks w/ skip-connections\n",
    "        # Block:\n",
    "            # Conv -> BN -> PReLU -> Conv -> BN -> Elementwise Sum (skip connection)\n",
    "\n",
    "    # Conv -> BN -> ElementWise Sum (skip connection from ***/beginning of block stack)\n",
    "\n",
    "    # Upsampler\n",
    "        # 2x (Conv -> PixelShuffler? -> PixelShuffler -> PReLU)\n",
    "        # Conv\n",
    "\n",
    "class Generator(nn.Module):\n",
    "    def __init__(self, n_channels, n_blocks, n_features, n_upsample_blocks):\n",
    "        super (Generator, self).__init__()\n",
    "        def _block(n_channels):\n",
    "            return nn.Sequential(\n",
    "                nn.Conv2d(n_channels, n_channels, kernel_size=3, stride=1, padding=1,bias=False),\n",
    "                nn.BatchNorm2d(n_channels, track_running_stats=True),\n",
    "                nn.PReLU(num_parameters=n_features),\n",
    "                nn.Conv2d(n_channels, n_channels, kernel_size=3, stride=1,padding=1,bias=False),\n",
    "                nn.BatchNorm2d(n_channels, track_running_stats=True),\n",
    "            )\n",
    "\n",
    "        def upsample(n_features_in, n_features_boost):\n",
    "            return nn.Sequential(\n",
    "                nn.Conv2d(n_features_in, n_features_boost, kernel_size=3,stride=1, padding=1),\n",
    "                nn.PixelShuffle(2),\n",
    "                nn.PReLU(num_parameters=n_features_boost//4)\n",
    "            )\n",
    "\n",
    "\n",
    "        self.num_blocks = n_blocks\n",
    "        self.num_features = n_features\n",
    "        self.num_upsample_blocks = n_upsample_blocks\n",
    "\n",
    "\n",
    "\n",
    "        self.in_conv = nn.Sequential(\n",
    "            nn.Conv2d(n_channels, n_features, kernel_size=9, stride=1, padding=4,bias=False),\n",
    "            nn.PReLU(num_parameters=n_features)\n",
    "        )\n",
    "\n",
    "        self.blocks = nn.Sequential(*[_block(64) for _ in range(n_blocks)])\n",
    "\n",
    "        self.out_conv = nn.Sequential(\n",
    "            nn.Conv2d(n_features, n_features, kernel_size=3, stride=1, padding=1),\n",
    "            nn.BatchNorm2d(n_features)\n",
    "        )\n",
    "\n",
    "        self.upsample = nn.Sequential(\n",
    "            upsample(n_features, n_features * 16),\n",
    "            upsample(n_features*4, n_features*16)\n",
    "        )\n",
    "\n",
    "        self.out = nn.Conv2d(256, n_channels, kernel_size=9, stride=1, padding=4)\n",
    "\n",
    "\n",
    "    def forward(self, X):\n",
    "        X_first = self.in_conv(X)\n",
    "        X_past = X_first\n",
    "\n",
    "        for block in self.blocks:\n",
    "            X_current = block(X_past)\n",
    "            X_past = X_current + X_past\n",
    "        \n",
    "        X_out = self.out_conv(X_past)\n",
    "        X_out = X_out + X_first\n",
    "\n",
    "\n",
    "\n",
    "\n",
    "        return self.out(self.upsample(X_out))\n",
    "\n",
    "\n",
    "\n",
    "\n",
    "\n",
    "    \n",
    "\n",
    "\n"
   ]
  },
  {
   "cell_type": "code",
   "execution_count": 5,
   "metadata": {},
   "outputs": [
    {
     "name": "stdout",
     "output_type": "stream",
     "text": [
      "torch.Size([1, 1024, 24, 24])\n",
      "torch.Size([1, 256, 48, 48])\n",
      "torch.Size([1, 64, 48, 48])\n",
      "torch.Size([1, 16, 96, 96])\n"
     ]
    }
   ],
   "source": [
    "# c1 = nn.Conv2d(3, 64, 9, 1, padding=4)\n",
    "# X = torch.randn(1,3,24,24)\n",
    "# c2 = nn.Conv2d(64,64,3,1,1)\n",
    "\n",
    "# X = c1(X)\n",
    "# print(X.shape)\n",
    "# X = c2(X)\n",
    "# print(X.shape)\n",
    "\n",
    "c1 = nn.Conv2d(64, 1024, 3, 1, 1)\n",
    "shuff = nn.PixelShuffle(2)\n",
    "c2 = nn.Conv2d(256, 64,3,1,1)\n",
    "\n",
    "\n",
    "X = torch.randn(1, 64, 24,24)\n",
    "X = c1(X)\n",
    "print(X.shape)\n",
    "X = shuff(X)\n",
    "print(X.shape)\n",
    "X = c2(X)\n",
    "print(X.shape)\n",
    "X = shuff(X)\n",
    "print(X.shape)"
   ]
  },
  {
   "cell_type": "code",
   "execution_count": 6,
   "metadata": {},
   "outputs": [],
   "source": [
    "gen = Generator(3,16,64,2)\n"
   ]
  },
  {
   "cell_type": "code",
   "execution_count": 7,
   "metadata": {},
   "outputs": [],
   "source": [
    "pretrained_weights = list(gen_weights.items())\n",
    "\n",
    "\n",
    "idx = 0\n",
    "\n",
    "my_model = gen.state_dict()\n",
    "\n",
    "for k,v in my_model.items():\n",
    "    if \"num_batches_tracked\" not in k:\n",
    "        layer_name, weights = pretrained_weights[idx]\n",
    "        my_model[k] = weights\n",
    "        idx+=1\n",
    "\n",
    "\n"
   ]
  }
 ],
 "metadata": {
  "kernelspec": {
   "display_name": "Python 3.9.6 64-bit",
   "language": "python",
   "name": "python3"
  },
  "language_info": {
   "codemirror_mode": {
    "name": "ipython",
    "version": 3
   },
   "file_extension": ".py",
   "mimetype": "text/x-python",
   "name": "python",
   "nbconvert_exporter": "python",
   "pygments_lexer": "ipython3",
   "version": "3.9.6"
  },
  "orig_nbformat": 4,
  "vscode": {
   "interpreter": {
    "hash": "31f2aee4e71d21fbe5cf8b01ff0e069b9275f58929596ceb00d14d90e3e16cd6"
   }
  }
 },
 "nbformat": 4,
 "nbformat_minor": 2
}
