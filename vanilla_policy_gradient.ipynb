{
 "cells": [
  {
   "cell_type": "code",
   "execution_count": 158,
   "metadata": {},
   "outputs": [],
   "source": [
    "import gym\n",
    "import torch\n",
    "import torch.nn as nn\n",
    "import numpy as np\n",
    "import matplotlib.pyplot as plt\n",
    "import torch.nn.functional as F\n",
    "from torch.distributions import Categorical\n",
    "\n",
    "from tqdm import tqdm, trange"
   ]
  },
  {
   "cell_type": "code",
   "execution_count": 168,
   "metadata": {},
   "outputs": [],
   "source": [
    "# Goal: learn right setting of weights to maximize the expected rewards\n",
    "# Want an NN that outputs distribution over actions\n",
    "class Agent(nn.Module):\n",
    "    def __init__(self, n_actions, n_states, hidden_size):\n",
    "        super(Agent, self).__init__()\n",
    "        self.net = nn.Sequential(\n",
    "            nn.Linear(n_states, hidden_size),\n",
    "            nn.ReLU(),\n",
    "            nn.Linear(hidden_size, n_actions),\n",
    "            nn.Softmax() # b/c we want a distribution over action space\n",
    "        )\n",
    "\n",
    "    def forward(self, X):\n",
    "        return self.net(X)\n",
    "\n",
    "class Val(nn.Module):\n",
    "    def __init__(self, n_states, hidden_size, out_size):\n",
    "        super (Val, self).__init__()\n",
    "\n",
    "        self.net = nn.Sequential(\n",
    "            nn.Linear(n_states, hidden_size),\n",
    "            nn.ReLU(),\n",
    "            nn.Linear(hidden_size, out_size)\n",
    "        )\n",
    "\n",
    "    def forward(self, X):\n",
    "        return self.net(X)\n",
    "\n",
    "\n",
    "class VPG():\n",
    "    def __init__(self,n_actions, n_states, hidden_size, buffer_size, learning_rate, batch_size, gamma):\n",
    "        self.agent = Agent(n_actions, n_states, hidden_size)\n",
    "        self.val = Val(n_states, hidden_size, 1)\n",
    "        self.gamma = gamma\n",
    "        self.states= []\n",
    "        self.rewards=[]\n",
    "        self.next_states=[]\n",
    "        self.actions = []\n",
    "        self.chosen_actions = []\n",
    "        self.episode_rewards = []\n",
    "        \n",
    "        self.optim = torch.optim.Adam(self.agent.parameters(), lr=learning_rate)\n",
    "\n",
    "    def add_observation(self, state, action, chosen_action, reward, next_state):\n",
    "        self.states.append(state)\n",
    "        self.actions.append(action)\n",
    "        self.chosen_actions.append(chosen_action)\n",
    "        self.rewards.append(reward)\n",
    "        self.next_states.append(next_state)\n",
    "\n",
    "    def get_avg_reward_for_episode(self):\n",
    "        reward = sum(self.rewards)\n",
    "        self.episode_rewards.append(reward)\n",
    "        return reward\n",
    "\n",
    "\n",
    "    def update(self):\n",
    "        self.optim.zero_grad()\n",
    "        rewards_to_go = np.sum([self.gamma**ix * np.array(self.rewards[ix]) for ix, each in enumerate(self.rewards)])\n",
    "        sampler = Categorical(self.agent(torch.Tensor(self.states)))\n",
    "\n",
    "        loss = -torch.sum(sampler.log_prob(torch.Tensor(self.chosen_actions)) * rewards_to_go)\n",
    "        # print(\"LOSS\",loss.shape)\n",
    "        loss.backward()\n",
    "        for param in self.agent.parameters():\n",
    "            param.grad.data.clamp(-1,1)\n",
    "        self.optim.step()\n",
    "\n",
    "\n",
    "\n",
    "    def clear(self):\n",
    "        self.states = []\n",
    "        self.rewards = []\n",
    "        self.next_states = []\n",
    "        self.actions = []\n",
    "        self.chosen_actions = []\n",
    "\n",
    "\n",
    "\n",
    "        \n",
    "    "
   ]
  },
  {
   "cell_type": "code",
   "execution_count": 169,
   "metadata": {},
   "outputs": [],
   "source": [
    "n_actions = 4\n",
    "n_states = 8\n",
    "hidden_size = 128\n",
    "buffer_size = 1000000\n",
    "learning_rate = 0.002\n",
    "batch_size = 64\n",
    "gamma = 0.99\n",
    "model = VPG(n_actions, n_states, hidden_size, buffer_size, learning_rate, batch_size, gamma)\n",
    "# model.agent.load_state_dict(torch.load(\"chkpt3500.pt\"))\n"
   ]
  },
  {
   "cell_type": "code",
   "execution_count": 170,
   "metadata": {},
   "outputs": [
    {
     "name": "stderr",
     "output_type": "stream",
     "text": [
      "Ep: 103 Reward: -1.2e+02:   2%|▏         | 104/5000 [03:21<2:38:25,  1.94s/it] \n"
     ]
    },
    {
     "ename": "KeyboardInterrupt",
     "evalue": "",
     "output_type": "error",
     "traceback": [
      "\u001b[0;31m---------------------------------------------------------------------------\u001b[0m",
      "\u001b[0;31mKeyboardInterrupt\u001b[0m                         Traceback (most recent call last)",
      "Cell \u001b[0;32mIn [170], line 9\u001b[0m\n\u001b[1;32m      7\u001b[0m actions \u001b[39m=\u001b[39m model\u001b[39m.\u001b[39magent(torch\u001b[39m.\u001b[39mTensor(observation))\n\u001b[1;32m      8\u001b[0m chosen_action \u001b[39m=\u001b[39m Categorical(actions)\u001b[39m.\u001b[39msample()\u001b[39m.\u001b[39mitem()\n\u001b[0;32m----> 9\u001b[0m next_observation, reward, terminated, truncated, info \u001b[39m=\u001b[39m env\u001b[39m.\u001b[39mstep(chosen_action)\n\u001b[1;32m     11\u001b[0m model\u001b[39m.\u001b[39madd_observation(observation, actions, chosen_action, reward, next_observation)\n\u001b[1;32m     12\u001b[0m observation \u001b[39m=\u001b[39m next_observation\n",
      "File \u001b[0;32m~/Library/Python/3.9/lib/python/site-packages/gym/wrappers/time_limit.py:50\u001b[0m, in \u001b[0;36mTimeLimit.step\u001b[0;34m(self, action)\u001b[0m\n\u001b[1;32m     39\u001b[0m \u001b[39mdef\u001b[39;00m \u001b[39mstep\u001b[39m(\u001b[39mself\u001b[39m, action):\n\u001b[1;32m     40\u001b[0m     \u001b[39m\"\"\"Steps through the environment and if the number of steps elapsed exceeds ``max_episode_steps`` then truncate.\u001b[39;00m\n\u001b[1;32m     41\u001b[0m \n\u001b[1;32m     42\u001b[0m \u001b[39m    Args:\u001b[39;00m\n\u001b[0;32m   (...)\u001b[0m\n\u001b[1;32m     48\u001b[0m \n\u001b[1;32m     49\u001b[0m \u001b[39m    \"\"\"\u001b[39;00m\n\u001b[0;32m---> 50\u001b[0m     observation, reward, terminated, truncated, info \u001b[39m=\u001b[39m \u001b[39mself\u001b[39;49m\u001b[39m.\u001b[39;49menv\u001b[39m.\u001b[39;49mstep(action)\n\u001b[1;32m     51\u001b[0m     \u001b[39mself\u001b[39m\u001b[39m.\u001b[39m_elapsed_steps \u001b[39m+\u001b[39m\u001b[39m=\u001b[39m \u001b[39m1\u001b[39m\n\u001b[1;32m     53\u001b[0m     \u001b[39mif\u001b[39;00m \u001b[39mself\u001b[39m\u001b[39m.\u001b[39m_elapsed_steps \u001b[39m>\u001b[39m\u001b[39m=\u001b[39m \u001b[39mself\u001b[39m\u001b[39m.\u001b[39m_max_episode_steps:\n",
      "File \u001b[0;32m~/Library/Python/3.9/lib/python/site-packages/gym/wrappers/order_enforcing.py:37\u001b[0m, in \u001b[0;36mOrderEnforcing.step\u001b[0;34m(self, action)\u001b[0m\n\u001b[1;32m     35\u001b[0m \u001b[39mif\u001b[39;00m \u001b[39mnot\u001b[39;00m \u001b[39mself\u001b[39m\u001b[39m.\u001b[39m_has_reset:\n\u001b[1;32m     36\u001b[0m     \u001b[39mraise\u001b[39;00m ResetNeeded(\u001b[39m\"\u001b[39m\u001b[39mCannot call env.step() before calling env.reset()\u001b[39m\u001b[39m\"\u001b[39m)\n\u001b[0;32m---> 37\u001b[0m \u001b[39mreturn\u001b[39;00m \u001b[39mself\u001b[39;49m\u001b[39m.\u001b[39;49menv\u001b[39m.\u001b[39;49mstep(action)\n",
      "File \u001b[0;32m~/Library/Python/3.9/lib/python/site-packages/gym/wrappers/env_checker.py:39\u001b[0m, in \u001b[0;36mPassiveEnvChecker.step\u001b[0;34m(self, action)\u001b[0m\n\u001b[1;32m     37\u001b[0m     \u001b[39mreturn\u001b[39;00m env_step_passive_checker(\u001b[39mself\u001b[39m\u001b[39m.\u001b[39menv, action)\n\u001b[1;32m     38\u001b[0m \u001b[39melse\u001b[39;00m:\n\u001b[0;32m---> 39\u001b[0m     \u001b[39mreturn\u001b[39;00m \u001b[39mself\u001b[39;49m\u001b[39m.\u001b[39;49menv\u001b[39m.\u001b[39;49mstep(action)\n",
      "File \u001b[0;32m~/Library/Python/3.9/lib/python/site-packages/gym/envs/box2d/lunar_lander.py:599\u001b[0m, in \u001b[0;36mLunarLander.step\u001b[0;34m(self, action)\u001b[0m\n\u001b[1;32m    596\u001b[0m     reward \u001b[39m=\u001b[39m \u001b[39m+\u001b[39m\u001b[39m100\u001b[39m\n\u001b[1;32m    598\u001b[0m \u001b[39mif\u001b[39;00m \u001b[39mself\u001b[39m\u001b[39m.\u001b[39mrender_mode \u001b[39m==\u001b[39m \u001b[39m\"\u001b[39m\u001b[39mhuman\u001b[39m\u001b[39m\"\u001b[39m:\n\u001b[0;32m--> 599\u001b[0m     \u001b[39mself\u001b[39;49m\u001b[39m.\u001b[39;49mrender()\n\u001b[1;32m    600\u001b[0m \u001b[39mreturn\u001b[39;00m np\u001b[39m.\u001b[39marray(state, dtype\u001b[39m=\u001b[39mnp\u001b[39m.\u001b[39mfloat32), reward, terminated, \u001b[39mFalse\u001b[39;00m, {}\n",
      "File \u001b[0;32m~/Library/Python/3.9/lib/python/site-packages/gym/envs/box2d/lunar_lander.py:710\u001b[0m, in \u001b[0;36mLunarLander.render\u001b[0;34m(self)\u001b[0m\n\u001b[1;32m    708\u001b[0m     \u001b[39mself\u001b[39m\u001b[39m.\u001b[39mscreen\u001b[39m.\u001b[39mblit(\u001b[39mself\u001b[39m\u001b[39m.\u001b[39msurf, (\u001b[39m0\u001b[39m, \u001b[39m0\u001b[39m))\n\u001b[1;32m    709\u001b[0m     pygame\u001b[39m.\u001b[39mevent\u001b[39m.\u001b[39mpump()\n\u001b[0;32m--> 710\u001b[0m     \u001b[39mself\u001b[39;49m\u001b[39m.\u001b[39;49mclock\u001b[39m.\u001b[39;49mtick(\u001b[39mself\u001b[39;49m\u001b[39m.\u001b[39;49mmetadata[\u001b[39m\"\u001b[39;49m\u001b[39mrender_fps\u001b[39;49m\u001b[39m\"\u001b[39;49m])\n\u001b[1;32m    711\u001b[0m     pygame\u001b[39m.\u001b[39mdisplay\u001b[39m.\u001b[39mflip()\n\u001b[1;32m    712\u001b[0m \u001b[39melif\u001b[39;00m \u001b[39mself\u001b[39m\u001b[39m.\u001b[39mrender_mode \u001b[39m==\u001b[39m \u001b[39m\"\u001b[39m\u001b[39mrgb_array\u001b[39m\u001b[39m\"\u001b[39m:\n",
      "\u001b[0;31mKeyboardInterrupt\u001b[0m: "
     ]
    }
   ],
   "source": [
    "\n",
    "env = gym.make(\"LunarLander-v2\", render_mode=\"human\")\n",
    "for ep in (pbar:=tqdm(range(5000))): # num. episodes\n",
    "   observation, info = env.reset()\n",
    "   terminated, truncated = False, False\n",
    "   num_steps = 0\n",
    "   while not terminated and not truncated and num_steps < 300:\n",
    "      actions = model.agent(torch.Tensor(observation))\n",
    "      chosen_action = Categorical(actions).sample().item()\n",
    "      next_observation, reward, terminated, truncated, info = env.step(chosen_action)\n",
    "\n",
    "      model.add_observation(observation, actions, chosen_action, reward, next_observation)\n",
    "      observation = next_observation\n",
    "      num_steps+=1\n",
    "   ep_reward = model.get_avg_reward_for_episode()\n",
    "   model.update()\n",
    "   model.clear()\n",
    "\n",
    "\n",
    "   pbar.set_description(\"Ep: {} Reward: {:.3}\".format(ep, ep_reward))\n",
    "   if ep % 500 == 0 and ep != 0:\n",
    "      torch.save(model.agent.state_dict(), f\"chkpt_1_{ep}.pt\")\n",
    "\n",
    "   \n",
    "   \n",
    "\n",
    "\n",
    "   \n",
    "\n",
    "\n",
    "\n",
    "      \n",
    "env.close()"
   ]
  },
  {
   "cell_type": "code",
   "execution_count": null,
   "metadata": {},
   "outputs": [
    {
     "data": {
      "text/plain": [
       "[<matplotlib.lines.Line2D at 0x2ac2ca0a0>]"
      ]
     },
     "execution_count": 157,
     "metadata": {},
     "output_type": "execute_result"
    },
    {
     "data": {
      "image/png": "[encoded data removed]",
      "text/plain": [
       "<Figure size 640x480 with 1 Axes>"
      ]
     },
     "metadata": {},
     "output_type": "display_data"
    }
   ],
   "source": [
    "torch.save(model.agent.state_dict(), \"final_weights.pt\")\n",
    "torch.save(model.episode_rewards, \"rewards.pt\")\n",
    "plt.plot(model.episode_rewards)"
   ]
  },
  {
   "cell_type": "code",
   "execution_count": null,
   "metadata": {},
   "outputs": [],
   "source": []
  },
  {
   "cell_type": "code",
   "execution_count": null,
   "metadata": {},
   "outputs": [],
   "source": []
  }
 ],
 "metadata": {
  "kernelspec": {
   "display_name": "Python 3.9.6 64-bit",
   "language": "python",
   "name": "python3"
  },
  "language_info": {
   "codemirror_mode": {
    "name": "ipython",
    "version": 3
   },
   "file_extension": ".py",
   "mimetype": "text/x-python",
   "name": "python",
   "nbconvert_exporter": "python",
   "pygments_lexer": "ipython3",
   "version": "3.9.6"
  },
  "orig_nbformat": 4,
  "vscode": {
   "interpreter": {
    "hash": "31f2aee4e71d21fbe5cf8b01ff0e069b9275f58929596ceb00d14d90e3e16cd6"
   }
  }
 },
 "nbformat": 4,
 "nbformat_minor": 2
}
