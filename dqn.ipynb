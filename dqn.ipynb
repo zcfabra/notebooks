{
 "cells": [
  {
   "cell_type": "code",
   "execution_count": 9,
   "metadata": {},
   "outputs": [],
   "source": [
    "import torch\n",
    "import gym\n",
    "import torch.nn as nn"
   ]
  },
  {
   "cell_type": "code",
   "execution_count": 12,
   "metadata": {},
   "outputs": [],
   "source": [
    "class DQN(nn.Module):\n",
    "    def __init__(self, n_actions, in_shape, hidden_size):\n",
    "        super(DQN, self).__init__()\n",
    "        self.net = nn.Sequential(\n",
    "            nn.Linear(in_shape, hidden_size),\n",
    "            nn.ReLU(),\n",
    "            nn.Linear(hidden_size, n_actions)\n",
    "        )\n",
    "\n",
    "        \n",
    "    \n",
    "    def forward(self, X):\n",
    "        return self.net(X)\n",
    "\n",
    "    \n",
    "\n"
   ]
  },
  {
   "cell_type": "code",
   "execution_count": 17,
   "metadata": {},
   "outputs": [
    {
     "ename": "TypeError",
     "evalue": "__init__() missing 1 required positional argument: 'params'",
     "output_type": "error",
     "traceback": [
      "\u001b[0;31m---------------------------------------------------------------------------\u001b[0m",
      "\u001b[0;31mTypeError\u001b[0m                                 Traceback (most recent call last)",
      "Cell \u001b[0;32mIn [17], line 50\u001b[0m\n\u001b[1;32m     47\u001b[0m num_samples \u001b[39m=\u001b[39m \u001b[39m3\u001b[39m\n\u001b[1;32m     49\u001b[0m loss_fn \u001b[39m=\u001b[39m torch\u001b[39m.\u001b[39mnn\u001b[39m.\u001b[39mMSELoss()\n\u001b[0;32m---> 50\u001b[0m optim \u001b[39m=\u001b[39m torch\u001b[39m.\u001b[39moptim\u001b[39m.\u001b[39mAdam(lr\u001b[39m=\u001b[39m\u001b[39m0.003\u001b[39m)\n\u001b[1;32m     51\u001b[0m c \u001b[39m=\u001b[39m \u001b[39m20\u001b[39m\n\u001b[1;32m     53\u001b[0m \u001b[39mfor\u001b[39;00m _ \u001b[39min\u001b[39;00m \u001b[39mrange\u001b[39m(\u001b[39m1\u001b[39m):\n",
      "\u001b[0;31mTypeError\u001b[0m: __init__() missing 1 required positional argument: 'params'"
     ]
    }
   ],
   "source": [
    "from copy import copy\n",
    "from random import random\n",
    "import pygame\n",
    "# ### Action Space\n",
    "# There are four discrete actions available: do nothing, fire left\n",
    "# orientation engine, fire main engine, fire right orientation engine.\n",
    "# ### Observation Space\n",
    "# The state is an 8-dimensional vector: the coordinates of the lander in `x` & `y`, its linear\n",
    "# velocities in `x` & `y`, its angle, its angular velocity, and two booleans\n",
    "# that represent whether each leg is in contact with the ground or not.\n",
    "# ### Rewards\n",
    "# After every step a reward is granted. The total reward of an episode is the\n",
    "# sum of the rewards for all the steps within that episode.\n",
    "# For each step, the reward:\n",
    "# - is increased/decreased the closer/further the lander is to the landing pad.\n",
    "# - is increased/decreased the slower/faster the lander is moving.\n",
    "# - is decreased the more the lander is tilted (angle not horizontal).\n",
    "# - is increased by 10 points for each leg that is in contact with the ground.\n",
    "# - is decreased by 0.03 points each frame a side engine is firing.\n",
    "# - is decreased by 0.3 points each frame the main engine is firing.\n",
    "# The episode receive an additional reward of -100 or +100 points for crashing or landing safely respectively.\n",
    "# An episode is considered a solution if it scores at least 200 points.\n",
    "# ### Starting State\n",
    "# The lander starts at the top center of the viewport with a random initial\n",
    "# force applied to its center of mass.\n",
    "# ### Episode Termination\n",
    "# The episode finishes if:\n",
    "# 1) the lander crashes (the lander body gets in contact with the moon);\n",
    "# 2) the lander gets outside of the viewport (`x` coordinate is greater than 1);\n",
    "# 3) the lander is not awake. From the [Box2D docs](https://box2d.org/documentation/md__d_1__git_hub_box2d_docs_dynamics.html#autotoc_md61),\n",
    "#     a body which is not awake is a body which doesn't move and doesn't\n",
    "#     collide with any other body:\n",
    "# > When Box2D determines that a body (or group of bodies) has come to rest,\n",
    "# > the body enters a sleep state which has very little CPU overhead. If a\n",
    "# > body is awake and collides with a sleeping body, then the sleeping body\n",
    "# > wakes up. Bodies will also wake up if a joint or contact attached to\n",
    "# > them is destroyed.\n",
    "import gym\n",
    "\n",
    "eps = 0.001\n",
    "env = gym.make(\"LunarLander-v2\", render_mode=\"human\")\n",
    "observation_t, info = env.reset(seed=42)\n",
    "\n",
    "agent = DQN(4,8,128)\n",
    "double_agent = DQN(4,8,128)\n",
    "buffer = []\n",
    "num_samples = 3\n",
    "\n",
    "loss_fn = torch.nn.MSELoss()\n",
    "optim = torch.optim.Adam(agent.parameters(), lr=0.003)\n",
    "c = 20\n",
    "\n",
    "for _ in range(1):\n",
    "    action = torch.argmax(agent(torch.Tensor(observation_t)))\n",
    "    observation_t1, reward, terminated, truncated, info = env.step(action.item())\n",
    "    \n",
    "    buffer.append((observation_t if not terminated else terminated, action.item(), reward, observation_t1))\n",
    "    observation_t = observation_t1\n",
    "\n",
    "    for each in random.sample(buffer, num_samples):\n",
    "        y_j = each[1] if each[0] is True else each[1] + torch.max(each[3])\n",
    "        target = each[2] + torch.max(double_agent(each[3]))\n",
    "        optim.zero_grad()\n",
    "        loss = loss_fn(torch.Tensor(each[2]), target)\n",
    "        loss.backward()\n",
    "        optim.step()\n",
    "    \n",
    "    if c == 0:\n",
    "        double_agent = copy.deepcopy(agent)\n",
    "        c = 0\n",
    "    c-=1\n",
    "\n",
    "\n",
    "    # print(torch.Tensor(observation).shape)\n",
    "    if terminated or truncated:\n",
    "        observation, info = env.reset()\n",
    "        break\n",
    "env.close()\n",
    "pygame.quit()"
   ]
  },
  {
   "cell_type": "code",
   "execution_count": null,
   "metadata": {},
   "outputs": [],
   "source": []
  },
  {
   "cell_type": "code",
   "execution_count": null,
   "metadata": {},
   "outputs": [],
   "source": []
  }
 ],
 "metadata": {
  "kernelspec": {
   "display_name": "Python 3.9.6 64-bit",
   "language": "python",
   "name": "python3"
  },
  "language_info": {
   "codemirror_mode": {
    "name": "ipython",
    "version": 3
   },
   "file_extension": ".py",
   "mimetype": "text/x-python",
   "name": "python",
   "nbconvert_exporter": "python",
   "pygments_lexer": "ipython3",
   "version": "3.9.6"
  },
  "orig_nbformat": 4,
  "vscode": {
   "interpreter": {
    "hash": "31f2aee4e71d21fbe5cf8b01ff0e069b9275f58929596ceb00d14d90e3e16cd6"
   }
  }
 },
 "nbformat": 4,
 "nbformat_minor": 2
}
